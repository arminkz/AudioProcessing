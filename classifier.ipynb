{
 "cells": [
  {
   "cell_type": "code",
   "execution_count": 46,
   "metadata": {},
   "outputs": [],
   "source": [
    "import matplotlib.pyplot as plt\n",
    "import numpy as np\n",
    "from scipy.fftpack import fft , fftfreq\n",
    "from scipy.io import wavfile\n",
    "\n",
    "def get_wav_spectral_prop(filename) -> dict:\n",
    "    fs, data = wavfile.read(filename)\n",
    "    #get a 5 second sample from sound\n",
    "    data = data[:5*fs]\n",
    "    #normalize to [-1,1) range\n",
    "    ndata = data.astype(np.float32)\n",
    "    ndata = (ndata / np.max(np.abs(ndata)))\n",
    "    ndata -= np.mean(ndata)\n",
    "    #perform fft\n",
    "    cfft = fft(ndata)\n",
    "    d = int(len(cfft)/2)-1\n",
    "    cfft = cfft[:d]\n",
    "    rfft = abs(cfft)\n",
    "    freqs = fftfreq(ndata.shape[0],1/fs)\n",
    "    freqs = freqs[:d]\n",
    "    maxf = freqs[np.where(rfft == np.amax(rfft))]\n",
    "    result_d = {\n",
    "        'max': maxf[0]\n",
    "    }\n",
    "    return result_d\n",
    "\n",
    "\n",
    "\n",
    "def spectral_properties(y: np.ndarray, fs: int) -> dict:\n",
    "    spec = np.abs(np.fft.rfft(y))\n",
    "    freq = np.fft.rfftfreq(len(y), d=1 / fs)\n",
    "    spec = np.abs(spec)\n",
    "    amp = spec / spec.sum()\n",
    "    mean = (freq * amp).sum()\n",
    "    sd = np.sqrt(np.sum(amp * ((freq - mean) ** 2)))\n",
    "    amp_cumsum = np.cumsum(amp)\n",
    "    median = freq[len(amp_cumsum[amp_cumsum <= 0.5]) + 1]\n",
    "    mode = freq[amp.argmax()]\n",
    "    Q25 = freq[len(amp_cumsum[amp_cumsum <= 0.25]) + 1]\n",
    "    Q75 = freq[len(amp_cumsum[amp_cumsum <= 0.75]) + 1]\n",
    "    IQR = Q75 - Q25\n",
    "    z = amp - amp.mean()\n",
    "    w = amp.std()\n",
    "    skew = ((z ** 3).sum() / (len(spec) - 1)) / w ** 3\n",
    "    kurt = ((z ** 4).sum() / (len(spec) - 1)) / w ** 4\n",
    "\n",
    "    result_d = {\n",
    "        'mean': mean,\n",
    "        'sd': sd,\n",
    "        'median': median,\n",
    "        'mode': mode,\n",
    "        'Q25': Q25,\n",
    "        'Q75': Q75,\n",
    "        'IQR': IQR,\n",
    "        'skew': skew,\n",
    "        'kurt': kurt\n",
    "    }\n",
    "    return result_d\n"
   ]
  },
  {
   "cell_type": "code",
   "execution_count": 47,
   "metadata": {},
   "outputs": [],
   "source": [
    "def hard_code_prediction(spectprop):\n",
    "    if(spectprop['max'] > 173):\n",
    "        return 'female'\n",
    "    else:\n",
    "        return 'male'"
   ]
  },
  {
   "cell_type": "code",
   "execution_count": 48,
   "metadata": {},
   "outputs": [
    {
     "name": "stdout",
     "output_type": "stream",
     "text": [
      "analysing voice 0...\n",
      "prediction: female\n",
      "analysing voice 1...\n",
      "prediction: female\n",
      "analysing voice 2...\n",
      "prediction: male\n",
      "analysing voice 3...\n",
      "prediction: male\n",
      "analysing voice 4...\n",
      "prediction: female\n",
      "analysing voice 5...\n",
      "prediction: female\n",
      "analysing voice 6...\n",
      "prediction: male\n",
      "analysing voice 7...\n",
      "prediction: female\n",
      "analysing voice 8...\n",
      "prediction: male\n",
      "analysing voice 9...\n",
      "prediction: female\n",
      "analysing voice 10...\n",
      "prediction: female\n",
      "analysing voice 11...\n",
      "prediction: male\n"
     ]
    }
   ],
   "source": [
    "for i in range(0,12):\n",
    "    print(f\"analysing voice {i}...\")\n",
    "    sp = get_wav_spectral_prop(f\"voices/v{i}.wav\")\n",
    "    pred = hard_code_prediction(sp)\n",
    "    print(f\"prediction: {pred}\")"
   ]
  },
  {
   "cell_type": "code",
   "execution_count": null,
   "metadata": {
    "collapsed": true
   },
   "outputs": [],
   "source": []
  }
 ],
 "metadata": {
  "kernelspec": {
   "display_name": "Python 3",
   "language": "python",
   "name": "python3"
  },
  "language_info": {
   "codemirror_mode": {
    "name": "ipython",
    "version": 3
   },
   "file_extension": ".py",
   "mimetype": "text/x-python",
   "name": "python",
   "nbconvert_exporter": "python",
   "pygments_lexer": "ipython3",
   "version": "3.6.8"
  }
 },
 "nbformat": 4,
 "nbformat_minor": 2
}
